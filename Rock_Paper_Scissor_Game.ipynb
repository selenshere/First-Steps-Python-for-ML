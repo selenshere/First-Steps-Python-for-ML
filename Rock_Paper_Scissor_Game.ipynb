{
  "nbformat": 4,
  "nbformat_minor": 0,
  "metadata": {
    "colab": {
      "name": "Rock-Paper-Scissor Game",
      "provenance": []
    },
    "kernelspec": {
      "name": "python3",
      "display_name": "Python 3"
    },
    "language_info": {
      "name": "python"
    }
  },
  "cells": [
    {
      "cell_type": "code",
      "execution_count": 4,
      "metadata": {
        "colab": {
          "base_uri": "https://localhost:8080/"
        },
        "id": "smPJvTbNOtK2",
        "outputId": "f6bbf221-94a8-4e4d-af9c-f409d0a2e29b"
      },
      "outputs": [
        {
          "output_type": "stream",
          "name": "stdout",
          "text": [
            "how many rounds do you want to play? Please, write a number here:2\n",
            "round: 1\n",
            "Please, choose your action:rock\n",
            "Computer: paper\n",
            "Player: rock\n",
            "Computer is winner!\n",
            "round: 2\n",
            "Please, choose your action:ROCK\n",
            "Computer: scissors\n",
            "Player: ROCK\n",
            "Player is winner!\n",
            "Tie! No winner in this match. Computer score: 1 - Player score: 1\n"
          ]
        }
      ],
      "source": [
        "from typing_extensions import ParamSpecArgs\n",
        "import random\n",
        "action_list = [\"rock\", \"paper\", \"scissors\"]\n",
        "computer_score = 0\n",
        "player_score = 0\n",
        "total_rounds = input(\"how many rounds do you want to play? Please, write a number here:\")\n",
        "round_counter = 0\n",
        "while True:\n",
        "  round_counter +=1\n",
        "  print(\"round:\", round_counter)\n",
        "  computer_choice = random.choice(action_list)\n",
        "  player_choice = input(\"Please, choose your action:\")\n",
        "  print(\"Computer:\", computer_choice)\n",
        "  print(\"Player:\", player_choice)\n",
        "  if computer_choice == player_choice:\n",
        "    print(\"Tie! No winner in this round.\")\n",
        "  elif computer_choice == \"paper\":\n",
        "    if player_choice == \"rock\":\n",
        "      print(\"Computer is winner!\")\n",
        "      computer_score +=1\n",
        "    else:\n",
        "      print(\"Player is winner!\")\n",
        "      player_score +=1\n",
        "  elif computer_choice == \"rock\":\n",
        "    if player_choice == \"paper\":\n",
        "      print(\"Computer is winner!\")\n",
        "      computer_score +=1\n",
        "    else:\n",
        "      print(\"Player is winner!\")\n",
        "      player_score +=1\n",
        "  elif computer_choice == \"scissors\":\n",
        "     if player_choice == \"paper\":\n",
        "       print(\"Computer is winner!\")\n",
        "       computer_score +=1\n",
        "     else:\n",
        "       print(\"Player is winner!\")\n",
        "       player_score +=1\n",
        "  if round_counter == int(total_rounds):\n",
        "    break\n",
        "if computer_score == player_score:\n",
        "  print(\"Tie! No winner in this match.\", \"Computer score:\", computer_score, \"- Player score:\", player_score)\n",
        "else:\n",
        "  if computer_score < player_score:\n",
        "    print(\"Player is winner!\", \"Computer score:\", computer_score, \"- Player score:\", player_score)\n",
        "  else:\n",
        "    print(\"Computer is winner!\" , \"Computer score:\", computer_score, \"- Player score:\", player_score)\n",
        "      \n",
        "    \n",
        "\n",
        "\n",
        "\n"
      ]
    }
  ]
}